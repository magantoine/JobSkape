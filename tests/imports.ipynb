{
 "cells": [
  {
   "cell_type": "markdown",
   "metadata": {},
   "source": [
    "# Testing imports from installed package"
   ]
  },
  {
   "cell_type": "code",
   "execution_count": 7,
   "metadata": {},
   "outputs": [
    {
     "name": "stdout",
     "output_type": "stream",
     "text": [
      "<module 'jobskape.models.skillExtract' (<_frozen_importlib_external.NamespaceLoader object at 0x10630f8d0>)>\n",
      "<function main at 0x2b4d6dc60>\n",
      "<module 'jobskape.utils.gen_utils' from '/opt/homebrew/Caskroom/miniconda/base/envs/nlp1/lib/python3.11/site-packages/jobskape/utils/gen_utils.py'>\n"
     ]
    }
   ],
   "source": [
    "from jobskape import skillextract\n",
    "from jobskape import supervised_model\n",
    "from jobskape import skillskape\n",
    "print(skillextract)\n",
    "print(supervised_model)\n",
    "print(skillskape)"
   ]
  }
 ],
 "metadata": {
  "kernelspec": {
   "display_name": "nlp1",
   "language": "python",
   "name": "python3"
  },
  "language_info": {
   "codemirror_mode": {
    "name": "ipython",
    "version": 3
   },
   "file_extension": ".py",
   "mimetype": "text/x-python",
   "name": "python",
   "nbconvert_exporter": "python",
   "pygments_lexer": "ipython3",
   "version": "3.11.5"
  }
 },
 "nbformat": 4,
 "nbformat_minor": 2
}
